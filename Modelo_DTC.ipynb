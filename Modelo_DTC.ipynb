{
 "cells": [
  {
   "cell_type": "code",
   "execution_count": 123,
   "metadata": {},
   "outputs": [],
   "source": [
    "## Importo librerias\n",
    "import pandas as pd\n",
    "import numpy as np\n",
    "import matplotlib.pyplot as plt\n",
    "import seaborn as sns\n",
    "sns.set()\n"
   ]
  },
  {
   "cell_type": "code",
   "execution_count": 124,
   "metadata": {},
   "outputs": [],
   "source": [
    "## leo los dos archivos\n",
    "trainlimpio= pd.read_csv('train_con_eda')\n",
    "test= pd.read_parquet ('test.parquet')"
   ]
  },
  {
   "attachments": {},
   "cell_type": "markdown",
   "metadata": {},
   "source": [
    "#### Realizo con test, las misma operaciones que realice en train"
   ]
  },
  {
   "cell_type": "code",
   "execution_count": 125,
   "metadata": {},
   "outputs": [],
   "source": [
    "## Borro las columnas lat y long\n",
    "borrar= ['lat', 'long']\n",
    "test.drop(columns= borrar, inplace= True)\n",
    "## Completo los NaN para el modelo\n",
    "test['laundry_options'] = test.laundry_options.fillna(test.laundry_options.mode()[0])\n",
    "test['parking_options'] = test.parking_options.fillna(test.parking_options.mode()[0])\n",
    "## Borro las columnas que no son para el analisis\n",
    "Otro_borrar= ['id', 'url', 'region_url', 'image_url', 'description', 'state']\n",
    "test.drop(columns= Otro_borrar, inplace= True)\n",
    "## Cambio el tipo de dato\n",
    "test['baths']=test['baths'].astype (int)"
   ]
  },
  {
   "attachments": {},
   "cell_type": "markdown",
   "metadata": {},
   "source": [
    "#### Ahora trabajo con las categoricas de test"
   ]
  },
  {
   "cell_type": "code",
   "execution_count": 126,
   "metadata": {},
   "outputs": [
    {
     "name": "stdout",
     "output_type": "stream",
     "text": [
      "           type  laundry_options     parking_options                   region\n",
      "0  manufactured      w/d in unit  off-street parking                ann arbor\n",
      "1     apartment      w/d hookups  off-street parking                  vermont\n",
      "2     apartment      w/d in unit             carport                ann arbor\n",
      "3     apartment      w/d in unit     attached garage  fort collins / north CO\n",
      "4     apartment  laundry on site  off-street parking          charlottesville\n",
      "   type  laundry_options  parking_options  region\n",
      "0     8                4                4       9\n",
      "1     0                3                4     370\n",
      "2     0                4                1       9\n",
      "3     0                4                0     112\n",
      "4     0                1                4      53\n"
     ]
    }
   ],
   "source": [
    "categoricas= ['type', 'laundry_options', 'parking_options', 'region']\n",
    "# Import LabelEncoder\n",
    "from sklearn.preprocessing import LabelEncoder\n",
    "\n",
    "#Veo las categoricas\n",
    "print(test[categoricas].head())\n",
    "\n",
    "# CreoLabelEncoder : le\n",
    "le = LabelEncoder()\n",
    "\n",
    "# Aplico LabelEncoder a las columnas\n",
    "test[categoricas] = test[categoricas].apply(lambda x: le.fit_transform(x))\n",
    "\n",
    "# Veo las 5 filas de las categoricas\n",
    "print(test[categoricas].head())"
   ]
  },
  {
   "attachments": {},
   "cell_type": "markdown",
   "metadata": {},
   "source": [
    "#### Reviso nuevamente el tipo de datos"
   ]
  },
  {
   "cell_type": "code",
   "execution_count": 127,
   "metadata": {},
   "outputs": [
    {
     "name": "stdout",
     "output_type": "stream",
     "text": [
      "<class 'pandas.core.frame.DataFrame'>\n",
      "RangeIndex: 38498 entries, 0 to 38497\n",
      "Data columns (total 13 columns):\n",
      " #   Column                   Non-Null Count  Dtype\n",
      "---  ------                   --------------  -----\n",
      " 0   region                   38498 non-null  int32\n",
      " 1   type                     38498 non-null  int32\n",
      " 2   sqfeet                   38498 non-null  int64\n",
      " 3   beds                     38498 non-null  int64\n",
      " 4   baths                    38498 non-null  int32\n",
      " 5   cats_allowed             38498 non-null  int64\n",
      " 6   dogs_allowed             38498 non-null  int64\n",
      " 7   smoking_allowed          38498 non-null  int64\n",
      " 8   wheelchair_access        38498 non-null  int64\n",
      " 9   electric_vehicle_charge  38498 non-null  int64\n",
      " 10  comes_furnished          38498 non-null  int64\n",
      " 11  laundry_options          38498 non-null  int32\n",
      " 12  parking_options          38498 non-null  int32\n",
      "dtypes: int32(5), int64(8)\n",
      "memory usage: 3.1 MB\n"
     ]
    }
   ],
   "source": [
    "test.info()"
   ]
  },
  {
   "attachments": {},
   "cell_type": "markdown",
   "metadata": {},
   "source": [
    "#### Reviso el shape de los dos datsets; tienen la diferencia de la columna category_price"
   ]
  },
  {
   "cell_type": "code",
   "execution_count": 128,
   "metadata": {},
   "outputs": [
    {
     "data": {
      "text/plain": [
       "(148880, 14)"
      ]
     },
     "execution_count": 128,
     "metadata": {},
     "output_type": "execute_result"
    }
   ],
   "source": [
    "trainlimpio.shape"
   ]
  },
  {
   "cell_type": "code",
   "execution_count": 129,
   "metadata": {},
   "outputs": [
    {
     "data": {
      "text/plain": [
       "(38498, 13)"
      ]
     },
     "execution_count": 129,
     "metadata": {},
     "output_type": "execute_result"
    }
   ],
   "source": [
    "test.shape"
   ]
  },
  {
   "attachments": {},
   "cell_type": "markdown",
   "metadata": {},
   "source": [
    "#### ahora escalamos los datos numericos de ambos"
   ]
  },
  {
   "cell_type": "code",
   "execution_count": 130,
   "metadata": {},
   "outputs": [],
   "source": [
    "from sklearn.preprocessing import StandardScaler\n",
    "scl = StandardScaler()\n",
    "scl.fit(trainlimpio[['sqfeet']]) \n",
    "\n",
    "trainlimpio['sqfeet'] = scl.transform(trainlimpio[['sqfeet']]) \n"
   ]
  },
  {
   "cell_type": "code",
   "execution_count": 131,
   "metadata": {},
   "outputs": [],
   "source": [
    "from sklearn.preprocessing import StandardScaler\n",
    "scl = StandardScaler()\n",
    "scl.fit(test[['sqfeet']]) \n",
    "\n",
    "test['sqfeet'] = scl.transform(test[['sqfeet']]) \n"
   ]
  },
  {
   "attachments": {},
   "cell_type": "markdown",
   "metadata": {},
   "source": [
    "#### Comienzo con el modelo; voy a utilizar todos los features, ya que considero lo mas adecuado para el analisis"
   ]
  },
  {
   "cell_type": "code",
   "execution_count": 132,
   "metadata": {},
   "outputs": [],
   "source": [
    "## Importo Librerias\n",
    "from sklearn.tree import DecisionTreeClassifier\n",
    "from sklearn.metrics import confusion_matrix\n",
    "from sklearn import metrics\n",
    "from sklearn.metrics import accuracy_score\n",
    "from sklearn.metrics import recall_score\n",
    "from sklearn.metrics import f1_score\n",
    "\n"
   ]
  },
  {
   "cell_type": "code",
   "execution_count": 133,
   "metadata": {},
   "outputs": [],
   "source": [
    "## Declaro las variables del train\n",
    "X= trainlimpio[['type', 'sqfeet', 'beds', 'baths', 'cats_allowed', 'dogs_allowed', 'smoking_allowed','wheelchair_access', 'electric_vehicle_charge', 'comes_furnished', 'laundry_options', 'parking_options', 'region']]\n",
    "y= trainlimpio[['category_price']]\n"
   ]
  },
  {
   "cell_type": "code",
   "execution_count": 134,
   "metadata": {},
   "outputs": [
    {
     "name": "stdout",
     "output_type": "stream",
     "text": [
      "(119104, 13) (119104, 1) (29776, 13) (29776, 1)\n"
     ]
    }
   ],
   "source": [
    "## Hago un train_test_split\n",
    "from sklearn.model_selection import train_test_split\n",
    "X_train, X_test, y_train, y_test = train_test_split(X, y, test_size=0.20, random_state=42)\n",
    "print(X_train.shape, y_train.shape, X_test.shape, y_test.shape)"
   ]
  },
  {
   "cell_type": "code",
   "execution_count": 135,
   "metadata": {},
   "outputs": [
    {
     "data": {
      "text/plain": [
       "DecisionTreeClassifier(max_depth=100, random_state=42)"
      ]
     },
     "execution_count": 135,
     "metadata": {},
     "output_type": "execute_result"
    }
   ],
   "source": [
    "## Instancio y entreno el modelo\n",
    "from sklearn.metrics import f1_score\n",
    "clf = DecisionTreeClassifier(max_depth =100, random_state = 42)\n",
    "clf.fit(X_train,y_train)\n"
   ]
  },
  {
   "attachments": {},
   "cell_type": "markdown",
   "metadata": {},
   "source": [
    "#### Ahora voy a trabajar con test"
   ]
  },
  {
   "cell_type": "code",
   "execution_count": 137,
   "metadata": {},
   "outputs": [],
   "source": [
    "## Declaro mi x_test que tiene las mismas columnas que el train\n",
    "X_test= test[['type', 'sqfeet', 'beds', 'baths', 'cats_allowed', 'dogs_allowed', 'smoking_allowed','wheelchair_access', 'electric_vehicle_charge', 'comes_furnished', 'laundry_options', 'parking_options', 'region']]\n"
   ]
  },
  {
   "cell_type": "code",
   "execution_count": 138,
   "metadata": {},
   "outputs": [],
   "source": [
    "## Obtengo mi y_predict con la variabale declarada anteriormente\n",
    "y_pred = clf.predict(X_test)"
   ]
  },
  {
   "cell_type": "code",
   "execution_count": 139,
   "metadata": {},
   "outputs": [],
   "source": [
    "## Lo paso a un dataframe\n",
    "y_predi= pd.DataFrame(y_pred, columns=['pred'])"
   ]
  },
  {
   "cell_type": "code",
   "execution_count": 116,
   "metadata": {},
   "outputs": [],
   "source": [
    "## lo exporto\n",
    "y_predi.to_csv('SoleGon.csv', index=False)"
   ]
  },
  {
   "cell_type": "code",
   "execution_count": 140,
   "metadata": {},
   "outputs": [
    {
     "data": {
      "text/plain": [
       "pred\n",
       "0       20769\n",
       "1       17729\n",
       "dtype: int64"
      ]
     },
     "execution_count": 140,
     "metadata": {},
     "output_type": "execute_result"
    }
   ],
   "source": [
    "## Cuento las lineas para chequear\n",
    "y_predi.value_counts()"
   ]
  }
 ],
 "metadata": {
  "kernelspec": {
   "display_name": "Python 3",
   "language": "python",
   "name": "python3"
  },
  "language_info": {
   "codemirror_mode": {
    "name": "ipython",
    "version": 3
   },
   "file_extension": ".py",
   "mimetype": "text/x-python",
   "name": "python",
   "nbconvert_exporter": "python",
   "pygments_lexer": "ipython3",
   "version": "3.7.9 (tags/v3.7.9:13c94747c7, Aug 17 2020, 16:30:00) [MSC v.1900 64 bit (AMD64)]"
  },
  "orig_nbformat": 4,
  "vscode": {
   "interpreter": {
    "hash": "81615a99fc76cd4b554e652240e30daeaa81f3648736345c11108d8693981db4"
   }
  }
 },
 "nbformat": 4,
 "nbformat_minor": 2
}
